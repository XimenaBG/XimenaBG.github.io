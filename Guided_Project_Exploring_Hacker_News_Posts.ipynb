{
  "nbformat": 4,
  "nbformat_minor": 0,
  "metadata": {
    "colab": {
      "name": "Guided Project: Exploring Hacker News Posts.ipynb",
      "provenance": [],
      "authorship_tag": "ABX9TyNaWurg49DiQ9GqdUei0TEC",
      "include_colab_link": true
    },
    "kernelspec": {
      "name": "python3",
      "display_name": "Python 3"
    }
  },
  "cells": [
    {
      "cell_type": "markdown",
      "metadata": {
        "id": "view-in-github",
        "colab_type": "text"
      },
      "source": [
        "<a href=\"https://colab.research.google.com/github/XimenaBG/XimenaBG.github.io/blob/master/Guided_Project_Exploring_Hacker_News_Posts.ipynb\" target=\"_parent\"><img src=\"https://colab.research.google.com/assets/colab-badge.svg\" alt=\"Open In Colab\"/></a>"
      ]
    },
    {
      "cell_type": "markdown",
      "metadata": {
        "id": "W_ITEm8BybTL"
      },
      "source": [
        "# **Exploring Hacker News Posts** "
      ]
    },
    {
      "cell_type": "markdown",
      "metadata": {
        "id": "V_kPF6kW0cS0"
      },
      "source": [
        "*The aim of this project is to explore the Ask HN and Show HN posts to determine which one receive more comments on average and if posts created at a certain time receive more comments on average.*\r\n"
      ]
    },
    {
      "cell_type": "code",
      "metadata": {
        "colab": {
          "base_uri": "https://localhost:8080/"
        },
        "id": "geITS9VoydmM",
        "outputId": "a24dcc8c-8f22-4417-9421-1905669d3918"
      },
      "source": [
        "from google.colab import drive\r\n",
        "drive.mount('/content/drive')"
      ],
      "execution_count": null,
      "outputs": [
        {
          "output_type": "stream",
          "text": [
            "Mounted at /content/drive\n"
          ],
          "name": "stdout"
        }
      ]
    },
    {
      "cell_type": "code",
      "metadata": {
        "colab": {
          "base_uri": "https://localhost:8080/"
        },
        "id": "u0d9qlIt1k_I",
        "outputId": "c0ee8481-3840-48e5-8449-c6b7dba08989"
      },
      "source": [
        "from csv import reader\r\n",
        "\r\n",
        "opened_file = open('/content/drive/MyDrive/Colab Notebooks/hacker_news.csv')\r\n",
        "read_file = reader(opened_file)\r\n",
        "hn = list(read_file)\r\n",
        "print(hn[:5])\r\n",
        "headers = hn[0]\r\n",
        "hn = hn[1:]\r\n",
        "print('\\n')\r\n",
        "print(headers)\r\n",
        "print('\\n')\r\n",
        "print(hn[:5])\r\n",
        "print('\\n')\r\n",
        "print(len(hn))"
      ],
      "execution_count": null,
      "outputs": [
        {
          "output_type": "stream",
          "text": [
            "[['id', 'title', 'url', 'num_points', 'num_comments', 'author', 'created_at'], ['12224879', 'Interactive Dynamic Video', 'http://www.interactivedynamicvideo.com/', '386', '52', 'ne0phyte', '8/4/2016 11:52'], ['10975351', 'How to Use Open Source and Shut the Fuck Up at the Same Time', 'http://hueniverse.com/2016/01/26/how-to-use-open-source-and-shut-the-fuck-up-at-the-same-time/', '39', '10', 'josep2', '1/26/2016 19:30'], ['11964716', \"Florida DJs May Face Felony for April Fools' Water Joke\", 'http://www.thewire.com/entertainment/2013/04/florida-djs-april-fools-water-joke/63798/', '2', '1', 'vezycash', '6/23/2016 22:20'], ['11919867', 'Technology ventures: From Idea to Enterprise', 'https://www.amazon.com/Technology-Ventures-Enterprise-Thomas-Byers/dp/0073523429', '3', '1', 'hswarna', '6/17/2016 0:01']]\n",
            "\n",
            "\n",
            "['id', 'title', 'url', 'num_points', 'num_comments', 'author', 'created_at']\n",
            "\n",
            "\n",
            "[['12224879', 'Interactive Dynamic Video', 'http://www.interactivedynamicvideo.com/', '386', '52', 'ne0phyte', '8/4/2016 11:52'], ['10975351', 'How to Use Open Source and Shut the Fuck Up at the Same Time', 'http://hueniverse.com/2016/01/26/how-to-use-open-source-and-shut-the-fuck-up-at-the-same-time/', '39', '10', 'josep2', '1/26/2016 19:30'], ['11964716', \"Florida DJs May Face Felony for April Fools' Water Joke\", 'http://www.thewire.com/entertainment/2013/04/florida-djs-april-fools-water-joke/63798/', '2', '1', 'vezycash', '6/23/2016 22:20'], ['11919867', 'Technology ventures: From Idea to Enterprise', 'https://www.amazon.com/Technology-Ventures-Enterprise-Thomas-Byers/dp/0073523429', '3', '1', 'hswarna', '6/17/2016 0:01'], ['10301696', 'Note by Note: The Making of Steinway L1037 (2007)', 'http://www.nytimes.com/2007/11/07/movies/07stein.html?_r=0', '8', '2', 'walterbell', '9/30/2015 4:12']]\n",
            "\n",
            "\n",
            "20100\n"
          ],
          "name": "stdout"
        }
      ]
    },
    {
      "cell_type": "code",
      "metadata": {
        "colab": {
          "base_uri": "https://localhost:8080/"
        },
        "id": "yyG-HMfLKtO_",
        "outputId": "9c7e541b-ebe1-4bbe-ae73-1e75c5318653"
      },
      "source": [
        "ask_posts = []\r\n",
        "show_posts = []\r\n",
        "other_posts = []\r\n",
        "\r\n",
        "for row in hn:\r\n",
        "  title = row[1]\r\n",
        "  title = title.lower()\r\n",
        "  if title.startswith('ask hn'):\r\n",
        "    ask_posts.append(row)\r\n",
        "  elif title.startswith('show hn'):\r\n",
        "    show_posts.append(row)\r\n",
        "  else:\r\n",
        "    other_posts.append(row)\r\n",
        "\r\n",
        "print('Number of Ask Posts:', len(ask_posts))\r\n",
        "print('Number of Show Posts:', len(show_posts))\r\n",
        "print('Number of Other Posts:', len(other_posts))\r\n"
      ],
      "execution_count": null,
      "outputs": [
        {
          "output_type": "stream",
          "text": [
            "Number of Ask Posts: 1744\n",
            "Number of Show Posts: 1162\n",
            "Number of Other Posts: 17194\n"
          ],
          "name": "stdout"
        }
      ]
    },
    {
      "cell_type": "code",
      "metadata": {
        "colab": {
          "base_uri": "https://localhost:8080/"
        },
        "id": "RYLtt7dEKtDJ",
        "outputId": "fd314e70-d95b-42b2-ce96-04d50e4b5696"
      },
      "source": [
        "total_ask_comments = 0\r\n",
        "for row in ask_posts:\r\n",
        "  num_comments = row[4]\r\n",
        "  total_ask_comments += int(num_comments)\r\n",
        "  avg_ask_comments = total_ask_comments/len(ask_posts)\r\n",
        "print('Average ask comments:', avg_ask_comments)\r\n",
        "\r\n",
        "total_show_comments = 0\r\n",
        "for row in show_posts:\r\n",
        "  num_comments_s = row[4]\r\n",
        "  total_show_comments += int(num_comments_s)\r\n",
        "  avg_show_comments = total_show_comments/len(show_posts)\r\n",
        "print('Average show comments:',avg_show_comments)"
      ],
      "execution_count": null,
      "outputs": [
        {
          "output_type": "stream",
          "text": [
            "Average ask comments: 14.038417431192661\n",
            "Average show comments: 10.31669535283993\n"
          ],
          "name": "stdout"
        }
      ]
    },
    {
      "cell_type": "markdown",
      "metadata": {
        "id": "EbwrXT5VNpt-"
      },
      "source": [
        "*As we can see in the results the average ask comments is greater than the average show comments. \r\n",
        "This behaviour can be explained by the fact that people likes to be useful and helpful and when somebody asks a question and you know the response you want to offer your help. On the other hand the show posts where you can share something new or innovative or simply relevant to the community maybe do not receive the same ammount of interactions because people do not feel the same engagement like when they are bein helpful.* "
      ]
    },
    {
      "cell_type": "code",
      "metadata": {
        "colab": {
          "base_uri": "https://localhost:8080/"
        },
        "id": "_wf6NRkmNcnH",
        "outputId": "09a78432-6101-4db3-fe4a-76d2a1da3344"
      },
      "source": [
        "import datetime as dt\r\n",
        "\r\n",
        "result_list =[]\r\n",
        "for row in ask_posts:\r\n",
        "  created_at = row[6]\r\n",
        "  n_comments = row[4]\r\n",
        "  n_comments = int(n_comments)\r\n",
        "  result_list.append([created_at, n_comments])\r\n",
        "\r\n",
        "print('Number of Ask Posts:', len(result_list))\r\n",
        "print('Number of comments created at:', result_list[:5])\r\n",
        "print('\\n')\r\n",
        "\r\n",
        "counts_by_hour = {}\r\n",
        "comments_by_hour = {}\r\n",
        "date_format = \"%m/%d/%Y %H:%M\"\r\n",
        "\r\n",
        "for row in result_list:\r\n",
        "  created = row[0]\r\n",
        "  # in the following line first of all i create the datetime object (strptime) and after that i just select the hour from the object (strftime)\r\n",
        "  hour = dt.datetime.strptime(created, date_format).strftime(\"%H\") \r\n",
        "  if hour not in counts_by_hour:\r\n",
        "    counts_by_hour[hour] = 1\r\n",
        "    comments_by_hour[hour] = row[1]\r\n",
        "  else:\r\n",
        "    counts_by_hour[hour] += 1\r\n",
        "    comments_by_hour[hour] += row[1]  \r\n",
        "\r\n",
        "print('Ask posts created in each hour:', counts_by_hour)\r\n",
        "print('\\n')\r\n",
        "print('Comments created in each hour:', comments_by_hour)\r\n"
      ],
      "execution_count": null,
      "outputs": [
        {
          "output_type": "stream",
          "text": [
            "Number of Ask Posts: 1744\n",
            "Number of comments created at: [['8/16/2016 9:55', 6], ['11/22/2015 13:43', 29], ['5/2/2016 10:14', 1], ['8/2/2016 14:20', 3], ['10/15/2015 16:38', 17]]\n",
            "\n",
            "\n",
            "Ask posts created in each hour: {'09': 45, '13': 85, '10': 59, '14': 107, '16': 108, '23': 68, '12': 73, '17': 100, '15': 116, '21': 109, '20': 80, '02': 58, '18': 109, '03': 54, '05': 46, '19': 110, '01': 60, '22': 71, '08': 48, '04': 47, '00': 55, '06': 44, '07': 34, '11': 58}\n",
            "\n",
            "\n",
            "Comments created in each hour: {'09': 251, '13': 1253, '10': 793, '14': 1416, '16': 1814, '23': 543, '12': 687, '17': 1146, '15': 4477, '21': 1745, '20': 1722, '02': 1381, '18': 1439, '03': 421, '05': 464, '19': 1188, '01': 683, '22': 479, '08': 492, '04': 337, '00': 447, '06': 397, '07': 267, '11': 641}\n"
          ],
          "name": "stdout"
        }
      ]
    },
    {
      "cell_type": "code",
      "metadata": {
        "colab": {
          "base_uri": "https://localhost:8080/"
        },
        "id": "l6TtVEre5IAM",
        "outputId": "a5eed26b-cecf-4800-c796-818932f4ec6c"
      },
      "source": [
        "comments = []\r\n",
        "for hour in comments_by_hour:\r\n",
        "  avg_by_hour = comments_by_hour[hour]/counts_by_hour[hour]\r\n",
        "  comments.append([hour, avg_by_hour])\r\n",
        "\r\n",
        "print(comments)"
      ],
      "execution_count": null,
      "outputs": [
        {
          "output_type": "stream",
          "text": [
            "[['09', 5.5777777777777775], ['13', 14.741176470588234], ['10', 13.440677966101696], ['14', 13.233644859813085], ['16', 16.796296296296298], ['23', 7.985294117647059], ['12', 9.41095890410959], ['17', 11.46], ['15', 38.5948275862069], ['21', 16.009174311926607], ['20', 21.525], ['02', 23.810344827586206], ['18', 13.20183486238532], ['03', 7.796296296296297], ['05', 10.08695652173913], ['19', 10.8], ['01', 11.383333333333333], ['22', 6.746478873239437], ['08', 10.25], ['04', 7.170212765957447], ['00', 8.127272727272727], ['06', 9.022727272727273], ['07', 7.852941176470588], ['11', 11.051724137931034]]\n"
          ],
          "name": "stdout"
        }
      ]
    },
    {
      "cell_type": "code",
      "metadata": {
        "colab": {
          "base_uri": "https://localhost:8080/"
        },
        "id": "KgJwhrnM_g74",
        "outputId": "e9f46363-a0be-4bd2-d383-8669d9936383"
      },
      "source": [
        "swap_avg_by_hour = []\r\n",
        "for row in comments:\r\n",
        "  swap_avg_by_hour.append([row[1], row[0]])\r\n",
        "print(swap_avg_by_hour)\r\n",
        "print('\\n')\r\n",
        "\r\n",
        "sorted_swap = sorted(swap_avg_by_hour, reverse=True)\r\n",
        "print(sorted_swap)\r\n",
        "print('\\n')\r\n",
        "\r\n",
        "print(\"Top 5 hours for ask post comments:\")\r\n",
        "\r\n",
        "hour_format = \"%H\"\r\n",
        "for row in sorted_swap[:5]:\r\n",
        "  created = row[1]\r\n",
        "  hour = dt.datetime.strptime(created, hour_format).strftime(\"%H:%M\") \r\n",
        "  value = row[0]\r\n",
        "  string = \"{hour_f} : {value_f:.2f} average comments per post\"\r\n",
        "  output = string.format(hour_f = hour, value_f = value)\r\n",
        "  print(output)\r\n",
        "\r\n"
      ],
      "execution_count": null,
      "outputs": [
        {
          "output_type": "stream",
          "text": [
            "[[5.5777777777777775, '09'], [14.741176470588234, '13'], [13.440677966101696, '10'], [13.233644859813085, '14'], [16.796296296296298, '16'], [7.985294117647059, '23'], [9.41095890410959, '12'], [11.46, '17'], [38.5948275862069, '15'], [16.009174311926607, '21'], [21.525, '20'], [23.810344827586206, '02'], [13.20183486238532, '18'], [7.796296296296297, '03'], [10.08695652173913, '05'], [10.8, '19'], [11.383333333333333, '01'], [6.746478873239437, '22'], [10.25, '08'], [7.170212765957447, '04'], [8.127272727272727, '00'], [9.022727272727273, '06'], [7.852941176470588, '07'], [11.051724137931034, '11']]\n",
            "\n",
            "\n",
            "[[38.5948275862069, '15'], [23.810344827586206, '02'], [21.525, '20'], [16.796296296296298, '16'], [16.009174311926607, '21'], [14.741176470588234, '13'], [13.440677966101696, '10'], [13.233644859813085, '14'], [13.20183486238532, '18'], [11.46, '17'], [11.383333333333333, '01'], [11.051724137931034, '11'], [10.8, '19'], [10.25, '08'], [10.08695652173913, '05'], [9.41095890410959, '12'], [9.022727272727273, '06'], [8.127272727272727, '00'], [7.985294117647059, '23'], [7.852941176470588, '07'], [7.796296296296297, '03'], [7.170212765957447, '04'], [6.746478873239437, '22'], [5.5777777777777775, '09']]\n",
            "\n",
            "\n",
            "Top 5 hours for ask post comments:\n",
            "15:00 : 38.59 average comments per post\n",
            "02:00 : 23.81 average comments per post\n",
            "20:00 : 21.52 average comments per post\n",
            "16:00 : 16.80 average comments per post\n",
            "21:00 : 16.01 average comments per post\n"
          ],
          "name": "stdout"
        }
      ]
    },
    {
      "cell_type": "markdown",
      "metadata": {
        "id": "GRMwZHzuH2V8"
      },
      "source": [
        "*As we can see the best hour to create an ask post is at 15:00, the average comments per post at this time is 38.59.\r\n",
        "The date and time of the posts in this dataset was made in the time zone  Eastern Time in the US, and now I am livinging in Brazil specifically in the southeast for that reason we could write at 17:00 to take advantage of the engagement of the users at this time.* "
      ]
    },
    {
      "cell_type": "markdown",
      "metadata": {
        "id": "AFRCvCfMMOqz"
      },
      "source": [
        "Next steps:\r\n",
        "1. Determine if show or ask posts receive more points on average.\r\n",
        "2. Determine if posts created at a certain time are more likely to receive more points.\r\n",
        "3. Compare your results to the average number of comments and points other posts receive.\r\n",
        "4. Use Dataquest's data science project style guide to format your project."
      ]
    },
    {
      "cell_type": "code",
      "metadata": {
        "id": "TkLogbtJNUqC"
      },
      "source": [
        ""
      ],
      "execution_count": null,
      "outputs": []
    }
  ]
}